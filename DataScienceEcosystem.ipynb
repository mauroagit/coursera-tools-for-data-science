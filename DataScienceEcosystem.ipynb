{
 "cells": [
  {
   "cell_type": "markdown",
   "id": "553e1ebd-42ac-4ccc-a42e-d50779e78be2",
   "metadata": {},
   "source": [
    "# Data Science Tools and Ecosystem"
   ]
  },
  {
   "cell_type": "markdown",
   "id": "bcf8b2cc-4162-4948-9488-4acefcfdc1ac",
   "metadata": {},
   "source": [
    "In this notebook, Data Science Tools and Ecosystem are summarized."
   ]
  },
  {
   "cell_type": "markdown",
   "id": "676885a8-e96d-409d-8996-aad8450f5e98",
   "metadata": {},
   "source": [
    "**Objectives:**\n",
    "- List popular languages in Data Science\n",
    "- List common libraries used by Data Scientists\n",
    "- Development environments used in Data Science\n",
    "- Arithmetic expressions in Python"
   ]
  },
  {
   "cell_type": "markdown",
   "id": "b8ee7167-0781-4705-bf85-f4b3779990e4",
   "metadata": {},
   "source": [
    "Some of the popular languages that Data Scientists use are:\n",
    "1. Python\n",
    "2. R\n",
    "3. SQL\n",
    "4. Julia\n",
    "5. Scala\n",
    "6. C++\n",
    "7. Java\n"
   ]
  },
  {
   "cell_type": "markdown",
   "id": "1509b97b-4dfc-4cc0-9a5f-544c002473b7",
   "metadata": {},
   "source": [
    "Some of the commonly used libraries used by Data Scientists include:\n",
    "1. Pandas\n",
    "2. NumPy\n",
    "3. Scikit-learn\n",
    "4. Matplotlib\n",
    "5. Seaborn"
   ]
  },
  {
   "cell_type": "markdown",
   "id": "f2c77d8c-fec4-4c21-b817-79f63d10f7c5",
   "metadata": {},
   "source": [
    "|Data Science Tools|\n",
    "|--------|\n",
    "| VS Code |\n",
    "| JupyterLab| \n",
    "| Google Colaboratoty | \n",
    "| R Studio |\n",
    "| Pycharm | \n",
    "\n"
   ]
  },
  {
   "cell_type": "markdown",
   "id": "f4f289f3-ebed-4f4a-aa89-d584d059e2a9",
   "metadata": {},
   "source": [
    "### Below are a few examples of evaluating arithmetic expressions in Python"
   ]
  },
  {
   "cell_type": "code",
   "execution_count": 10,
   "id": "bbd88c58-4df3-4843-9aa8-c59e9741b80b",
   "metadata": {},
   "outputs": [
    {
     "data": {
      "text/plain": [
       "17"
      ]
     },
     "execution_count": 10,
     "metadata": {},
     "output_type": "execute_result"
    }
   ],
   "source": [
    "# This a simple arithmetic expression to mutiply then add integers\n",
    "(3*4)+5"
   ]
  },
  {
   "cell_type": "code",
   "execution_count": 11,
   "id": "9b049e70-f598-49e3-b6c1-0d1ac72cde46",
   "metadata": {},
   "outputs": [
    {
     "name": "stdout",
     "output_type": "stream",
     "text": [
      "200 minutes = 3.3333333333333335 hours\n"
     ]
    }
   ],
   "source": [
    "# This will convert 200 minutes to hours by diving by 6\n",
    "minutes = 200\n",
    "hours = minutes / 60\n",
    "print(f'{minutes} minutes = {hours} hours') "
   ]
  },
  {
   "cell_type": "markdown",
   "id": "72df8892-50d5-4e68-aaac-b8671abd4dca",
   "metadata": {},
   "source": [
    "## Author\n",
    "Mauricio Arias Lopez\n"
   ]
  }
 ],
 "metadata": {
  "kernelspec": {
   "display_name": "Python 3 (ipykernel)",
   "language": "python",
   "name": "python3"
  },
  "language_info": {
   "codemirror_mode": {
    "name": "ipython",
    "version": 3
   },
   "file_extension": ".py",
   "mimetype": "text/x-python",
   "name": "python",
   "nbconvert_exporter": "python",
   "pygments_lexer": "ipython3",
   "version": "3.12.8"
  }
 },
 "nbformat": 4,
 "nbformat_minor": 5
}
